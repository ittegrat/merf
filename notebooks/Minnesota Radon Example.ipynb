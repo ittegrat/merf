{
 "cells": [
  {
   "cell_type": "code",
   "execution_count": null,
   "metadata": {},
   "outputs": [],
   "source": [
    "import numpy as np\n",
    "import pandas as pd\n",
    "import statsmodels.formula.api as smf\n",
    "\n",
    "%matplotlib inline\n",
    "import matplotlib.pyplot as plt\n",
    "\n",
    "from sklearn.linear_model import LinearRegression"
   ]
  },
  {
   "cell_type": "markdown",
   "metadata": {},
   "source": [
    "# Extract Radon Data and do EDA"
   ]
  },
  {
   "cell_type": "code",
   "execution_count": null,
   "metadata": {},
   "outputs": [],
   "source": [
    "df = pd.read_csv('../data/radon.csv')"
   ]
  },
  {
   "cell_type": "code",
   "execution_count": null,
   "metadata": {},
   "outputs": [],
   "source": [
    "df[['log_radon', 'county', 'floor']].head(8)"
   ]
  },
  {
   "cell_type": "code",
   "execution_count": null,
   "metadata": {},
   "outputs": [],
   "source": [
    "df[['idnum', 'county']].groupby('county').count().head(10)"
   ]
  },
  {
   "cell_type": "markdown",
   "metadata": {},
   "source": [
    "__Note__: the number of observations is wildly different from county to county"
   ]
  },
  {
   "cell_type": "code",
   "execution_count": null,
   "metadata": {},
   "outputs": [],
   "source": [
    "def plot_county_data(X_county, y_county):\n",
    "    dither_delta = 0.05\n",
    "    dither = dither_delta * np.random.rand(len(y_county)) - dither_delta/2.\n",
    "    plt.plot(X_county['floor'] + dither, y_county, 'ko', alpha=0.5)"
   ]
  },
  {
   "cell_type": "code",
   "execution_count": null,
   "metadata": {},
   "outputs": [],
   "source": [
    "counties_to_plot = ['LAC QUI PARLE', 'AITKIN', 'KOOCHICHING', 'DOUGLAS', 'CLAY', 'STEARNS', 'RAMSEY', 'ST LOUIS']"
   ]
  },
  {
   "cell_type": "markdown",
   "metadata": {},
   "source": [
    "# Complete Pooled Linear Regression\n",
    "Fit a single linear model for all the data. "
   ]
  },
  {
   "cell_type": "code",
   "execution_count": null,
   "metadata": {},
   "outputs": [],
   "source": [
    "def plot_county_lm(lm, county_name, linestyle='b-', linewidth=3):\n",
    "    # Create the line\n",
    "    xx = pd.DataFrame(np.linspace(0, 1, 100))\n",
    "    #yy = lm.intercept_ + lm.coef_[0] * xx\n",
    "    yy = lm.predict(xx)\n",
    "    plt.plot(xx, yy, linestyle, linewidth=linewidth)\n",
    "    plt.ylim([-1, 3])\n",
    "    plt.title(county_name)\n",
    "    plt.grid(True)"
   ]
  },
  {
   "cell_type": "code",
   "execution_count": null,
   "metadata": {},
   "outputs": [],
   "source": [
    "y = df['log_radon']\n",
    "X = df[['floor']]\n",
    "clusters = df['county']"
   ]
  },
  {
   "cell_type": "code",
   "execution_count": null,
   "metadata": {},
   "outputs": [],
   "source": [
    "global_lm = LinearRegression()\n",
    "global_lm.fit(X, y) # Note that I'm only using the floor feature the intercept is fitted by default."
   ]
  },
  {
   "cell_type": "code",
   "execution_count": null,
   "metadata": {},
   "outputs": [],
   "source": [
    "fig, axes = plt.subplots(nrows=2, ncols=4, sharex='all', sharey='all', figsize=(16, 8))\n",
    "plt.ylabel('log(radon)')\n",
    "for i in range(0,2):\n",
    "    for j in range(0,4):\n",
    "        plt.sca(axes[i, j])\n",
    "        county_name = counties_to_plot[4*i+j]\n",
    "        county_mask = (clusters == county_name)\n",
    "        X_county = X[county_mask]\n",
    "        y_county = y[county_mask]\n",
    "        plot_county_lm(global_lm, county_name)\n",
    "        plot_county_data(X_county, y_county)"
   ]
  },
  {
   "cell_type": "markdown",
   "metadata": {},
   "source": [
    "# No Pooling Linear Regression\n",
    "Fit a separate model per cluster."
   ]
  },
  {
   "cell_type": "code",
   "execution_count": null,
   "metadata": {},
   "outputs": [],
   "source": [
    "county_lm = {}\n",
    "fig, axes = plt.subplots(nrows=2, ncols=4, sharex='all', sharey='all', figsize=(16, 8))\n",
    "plt.ylabel('log(radon)')\n",
    "for i in range(0,2):\n",
    "    for j in range(0,4):\n",
    "        plt.sca(axes[i, j])\n",
    "        county_name = counties_to_plot[4*i+j]\n",
    "        county_mask = (clusters == county_name)\n",
    "        X_county = X[county_mask]\n",
    "        y_county = y[county_mask]\n",
    "        lm = LinearRegression()\n",
    "        county_lm[county_name] = lm\n",
    "        lm.fit(X_county, y_county)\n",
    "        plot_county_lm(global_lm, county_name, 'b--', 1)\n",
    "        plot_county_lm(lm, county_name, 'r-')\n",
    "        plot_county_data(X_county, y_county)"
   ]
  },
  {
   "cell_type": "markdown",
   "metadata": {},
   "source": [
    "# Linear Regression with dummies\n",
    "Fit a single linear model for all the data with dummies to account *county* effects. "
   ]
  },
  {
   "cell_type": "code",
   "execution_count": null,
   "metadata": {},
   "outputs": [],
   "source": [
    "def plot_county_lm_dummy(lm, counties, county_name, linestyle='k-', linewidth=3):\n",
    "    # Create the line\n",
    "    xx=pd.DataFrame(np.linspace(0, 1, 100))\n",
    "    nx=pd.DataFrame(np.zeros(shape=(100,len(counties))),columns=counties)\n",
    "    nx[county_name]=1\n",
    "    nx=pd.DataFrame.merge(nx,xx,left_index=True, right_index=True)\n",
    "    yy = lm.predict(nx)\n",
    "    plt.plot(xx, yy, linestyle, linewidth=linewidth)\n",
    "    plt.ylim([-1, 3])\n",
    "    plt.title(county_name)\n",
    "    plt.grid(True)"
   ]
  },
  {
   "cell_type": "code",
   "execution_count": null,
   "metadata": {},
   "outputs": [],
   "source": [
    "counties = df['county'].unique()\n",
    "dummies = pd.DataFrame()\n",
    "for county in counties:\n",
    "    dummies[county] = (df['county']==county).apply(lambda x: int(x))"
   ]
  },
  {
   "cell_type": "code",
   "execution_count": null,
   "metadata": {},
   "outputs": [],
   "source": [
    "DX = dummies.merge(X,left_index=True, right_index=True)"
   ]
  },
  {
   "cell_type": "code",
   "execution_count": null,
   "metadata": {},
   "outputs": [],
   "source": [
    "dummy_lm = LinearRegression(fit_intercept=False)\n",
    "dummy_lm.fit(DX, y)"
   ]
  },
  {
   "cell_type": "code",
   "execution_count": null,
   "metadata": {},
   "outputs": [],
   "source": [
    "fig, axes = plt.subplots(nrows=2, ncols=4, sharex='all', sharey='all', figsize=(16, 8))\n",
    "plt.ylabel('log(radon)')\n",
    "for i in range(0,2):\n",
    "    for j in range(0,4):\n",
    "        plt.sca(axes[i, j])\n",
    "        county_name = counties_to_plot[4*i+j]\n",
    "        county_mask = (clusters == county_name)\n",
    "        X_county = X[county_mask]\n",
    "        y_county = y[county_mask]\n",
    "        plot_county_lm_dummy(dummy_lm, counties, county_name)\n",
    "        plot_county_lm(county_lm[county_name], county_name, 'r--', 1)\n",
    "        plot_county_lm(global_lm, county_name, 'b--', 1)\n",
    "        plot_county_data(X_county, y_county)"
   ]
  },
  {
   "cell_type": "markdown",
   "metadata": {},
   "source": [
    " # Linear Mixed Effects Modelling with Random Intercept\n",
    " \n",
    " Use mixed-effects modelling to model a random intercept for each cluster but learning the slope globally."
   ]
  },
  {
   "cell_type": "code",
   "execution_count": null,
   "metadata": {},
   "outputs": [],
   "source": [
    "X = df[['floor']]\n",
    "y = df['log_radon']"
   ]
  },
  {
   "cell_type": "code",
   "execution_count": null,
   "metadata": {},
   "outputs": [],
   "source": [
    "md = smf.mixedlm(\"log_radon ~ floor\", df, groups=df['county'])\n",
    "mdf = md.fit()"
   ]
  },
  {
   "cell_type": "code",
   "execution_count": null,
   "metadata": {},
   "outputs": [],
   "source": [
    "mdf.params"
   ]
  },
  {
   "cell_type": "code",
   "execution_count": null,
   "metadata": {},
   "outputs": [],
   "source": [
    "mdf.random_effects['AITKIN']['Group']"
   ]
  },
  {
   "cell_type": "code",
   "execution_count": null,
   "metadata": {},
   "outputs": [],
   "source": [
    "def plot_county_lme(lme, county_name, linestyle='g-', linewidth=3):\n",
    "    # Create the line\n",
    "    xx = np.linspace(0, 1, 100)\n",
    "    yy = lme.params['Intercept'] + lme.params['floor'] * xx + lme.random_effects[county_name]['Group']\n",
    "    plt.plot(xx, yy, linestyle, linewidth=linewidth)\n",
    "    plt.ylim([-1, 3])\n",
    "    plt.title(county_name)\n",
    "    plt.grid(True)"
   ]
  },
  {
   "cell_type": "code",
   "execution_count": null,
   "metadata": {},
   "outputs": [],
   "source": [
    "fig, axes = plt.subplots(nrows=2, ncols=4, sharex='all', sharey='all', figsize=(16, 8))\n",
    "plt.ylabel('log(radon)')\n",
    "for i in range(0,2):\n",
    "    for j in range(0,4):\n",
    "        plt.sca(axes[i, j])\n",
    "        county_name = counties_to_plot[4*i+j]\n",
    "        county_mask = (clusters == county_name)\n",
    "        X_county = X[county_mask]\n",
    "        y_county = y[county_mask]\n",
    "        plot_county_lme(mdf, county_name)\n",
    "        plot_county_lm_dummy(dummy_lm, counties, county_name, 'k--', 1)\n",
    "        plot_county_lm(county_lm[county_name], county_name, 'r--', 1)\n",
    "        plot_county_lm(global_lm, county_name, 'b--', 1)\n",
    "        plot_county_data(X_county, y_county)"
   ]
  },
  {
   "cell_type": "markdown",
   "metadata": {},
   "source": [
    "# Linear Mixed Effects Modelling with Random Slope"
   ]
  },
  {
   "cell_type": "code",
   "execution_count": null,
   "metadata": {},
   "outputs": [],
   "source": [
    "md_rs = smf.mixedlm(\"log_radon ~ floor\", df, groups=df['county'], re_formula=\"~floor\")\n",
    "mdf_rs = md_rs.fit()"
   ]
  },
  {
   "cell_type": "code",
   "execution_count": null,
   "metadata": {},
   "outputs": [],
   "source": [
    "mdf_rs.random_effects['AITKIN']"
   ]
  },
  {
   "cell_type": "code",
   "execution_count": null,
   "metadata": {},
   "outputs": [],
   "source": [
    "def plot_county_random_slope(lme, county_name, linestyle='m-', linewidth=3):\n",
    "    # Create the line\n",
    "    xx = np.linspace(0, 1, 100)\n",
    "    yy = lme.params['Intercept'] + lme.params['floor'] * xx + lme.random_effects[county_name]['Group'] + lme.random_effects[county_name]['floor'] * xx\n",
    "    plt.plot(xx, yy, linestyle, linewidth=linewidth)\n",
    "    plt.ylim([-1, 3])\n",
    "    plt.title(county_name)\n",
    "    plt.grid(True)"
   ]
  },
  {
   "cell_type": "code",
   "execution_count": null,
   "metadata": {},
   "outputs": [],
   "source": [
    "fig, axes = plt.subplots(nrows=2, ncols=4, sharex='all', sharey='all', figsize=(16, 8))\n",
    "plt.ylabel('log(radon)')\n",
    "for i in range(0,2):\n",
    "    for j in range(0,4):\n",
    "        plt.sca(axes[i, j])\n",
    "        county_name = counties_to_plot[4*i+j]\n",
    "        county_mask = (clusters == county_name)\n",
    "        X_county = X[county_mask]\n",
    "        y_county = y[county_mask]\n",
    "        plot_county_random_slope(mdf_rs, county_name)\n",
    "        plot_county_lme(mdf, county_name, 'g--', 1)\n",
    "        plot_county_lm_dummy(dummy_lm, counties, county_name, 'k--', 1)\n",
    "        plot_county_lm(county_lm[county_name], county_name, 'r--', 1)\n",
    "        plot_county_lm(global_lm, county_name, 'b--', 1)\n",
    "        plot_county_data(X_county, y_county)"
   ]
  }
 ],
 "metadata": {
  "kernelspec": {
   "display_name": "Python 3",
   "language": "python",
   "name": "python3"
  },
  "language_info": {
   "codemirror_mode": {
    "name": "ipython",
    "version": 3
   },
   "file_extension": ".py",
   "mimetype": "text/x-python",
   "name": "python",
   "nbconvert_exporter": "python",
   "pygments_lexer": "ipython3",
   "version": "3.7.2"
  }
 },
 "nbformat": 4,
 "nbformat_minor": 2
}
